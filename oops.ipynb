{
  "nbformat": 4,
  "nbformat_minor": 0,
  "metadata": {
    "colab": {
      "provenance": []
    },
    "kernelspec": {
      "name": "python3",
      "display_name": "Python 3"
    },
    "language_info": {
      "name": "python"
    }
  },
  "cells": [
    {
      "cell_type": "markdown",
      "source": [
        "#PYTHON OOPS ASSIGNMENT"
      ],
      "metadata": {
        "id": "xP69LzEambao"
      }
    },
    {
      "cell_type": "markdown",
      "source": [
        "#Theoretical Questions : -"
      ],
      "metadata": {
        "id": "yQZMn6E2mkQi"
      }
    },
    {
      "cell_type": "markdown",
      "source": [
        "**1**.What is Object-Oriented Programming (OOP)?\n",
        " - Object-Oriented Programming (OOP) is a programming paradigm that organizes software design around objects, which are data structures containing both data (attributes) and code (methods) that operate on that data, promoting code reusability and modularity."
      ],
      "metadata": {
        "id": "QJN0AGx9mw2W"
      }
    },
    {
      "cell_type": "markdown",
      "source": [
        "**2**.What is a class in OOP?\n",
        " - In object-oriented programming (OOP), a class is a blueprint or template for creating objects, defining the data (attributes) and behavior (methods) that objects of that class will have."
      ],
      "metadata": {
        "id": "OLtNlMvvnYdq"
      }
    },
    {
      "cell_type": "markdown",
      "source": [
        "**3**.What is an object in OOP?\n",
        " - In object-oriented programming (OOP), an object is a fundamental unit that encapsulates data (attributes or properties) and the actions (methods or functions) that operate on that data, representing a real-world entity or concept."
      ],
      "metadata": {
        "id": "bmIePc-rntPS"
      }
    },
    {
      "cell_type": "markdown",
      "source": [
        "**4**.What is the difference between abstraction and encapsulation?\n",
        " - Abstraction hides complex implementation details, focusing on essential features, while encapsulation bundles data and methods into a unit, controlling access and protecting internal state.\n",
        " - Abstraction: -\n",
        "  - Focus: Hiding unnecessary details and presenting a simplified view of an object or system.\n",
        "  - Purpose: To reduce complexity and make systems easier to understand and use.\n",
        "  - Example: In a car, you only need to know how to steer, accelerate, and brake, not the internal workings of the engine.\n",
        "  - Implementation: Achieved through abstract classes, interfaces, and inheritance.\n",
        "  - What: Abstraction is about \"what\" an object does, rather than \"how\" it does it.\n",
        " - Encapsulation: -\n",
        "  - Focus: Bundling data and methods that operate on that data within a single unit (like a class) and controlling access to those data and methods.\n",
        "  - Purpose: To protect the internal state of an object and prevent unauthorized access or modification.\n",
        "  - Example: A bank account has an account number and balance, but you can't directly access or change the balance; you do so through methods like deposit or withdraw.\n",
        "  - Implementation: Achieved through access modifiers (like private, public, protected), getter, and setter methods.\n",
        "  - What: Encapsulation is about \"how\" functionality is achieved, focusing on data hiding and access control.   "
      ],
      "metadata": {
        "id": "rkeqGSikoBA5"
      }
    },
    {
      "cell_type": "markdown",
      "source": [
        "**5**.What are dunder methods in Python?\n",
        " - Dunder methods, also known as magic methods, are special methods in Python that begin and end with double underscores (e.g., __init__, __str__). They provide a way to implement operator overloading and customize class behavior. These methods are automatically called by the Python interpreter in response to certain operations. For example, the __init__ method is invoked when an object is created, while the __add__ method is called when the + operator is used.\n",
        " - Dunder methods enable classes to interact with built-in functions and operators, allowing for more intuitive and expressive code. They are not typically called directly but are triggered implicitly by the interpreter."
      ],
      "metadata": {
        "id": "8O4ANohyvqC2"
      }
    },
    {
      "cell_type": "markdown",
      "source": [
        "**6**.Explain the concept of inheritance in OOP.\n",
        " - In Object-Oriented Programming (OOP), inheritance is a mechanism where a new class (subclass or child class) inherits properties and behaviors from an existing class (superclass or parent class), promoting code reuse and hierarchical relationships.\n",
        " - What it is: -\n",
        "  - Inheritance allows you to create a new class (the subclass) that is based on an existing class (the superclass).\n",
        " - How it works: -\n",
        "  - The subclass automatically inherits all the attributes and methods (public and protected) of the superclass.\n",
        " - Why it's useful: -\n",
        "  - Code Reusability: You don't have to rewrite code for common attributes and behaviors; the subclass can simply inherit them.\n",
        "  - Hierarchical Relationships: Inheritance establishes a \"is-a\" relationship between classes, allowing you to model real-world scenarios where one class is a specialized version of another.\n",
        "  - Extensibility: Subclasses can extend the functionality of the superclass by adding new attributes or methods, or by overriding existing ones."
      ],
      "metadata": {
        "id": "3n1dGenxwp-d"
      }
    },
    {
      "cell_type": "markdown",
      "source": [
        "**7**.What is polymorphism in OOP?\n",
        " - In Object-Oriented Programming (OOP), polymorphism means \"many forms\" and allows objects of different classes to be treated as objects of a common type, enabling them to respond to the same method call in different ways."
      ],
      "metadata": {
        "id": "1PgjwjZxyTjh"
      }
    },
    {
      "cell_type": "markdown",
      "source": [
        "**8**.How is encapsulation achieved in Python?\n",
        " - Encapsulation in Python is achieved through conventions, primarily using access modifiers to control the visibility of class members (attributes and methods). Unlike some other languages, Python doesn't enforce strict access control but relies on naming conventions to indicate the intended scope of members.\n",
        " - Public Members:\n",
        "  - These are accessible from anywhere, both inside and outside the class. By default, all members in a Python class are public unless specified otherwise.\n",
        " - Protected Members:\n",
        "  - These are intended for use within the class and its subclasses. They are denoted by a single underscore prefix _. While they can still be accessed from outside the class, it is a convention not to do so.\n",
        " - Private Members:\n",
        "  - These are intended for use only within the class and are denoted by a double underscore prefix __. Python applies name mangling to private members, making them harder to access directly from outside the class, but it's still technically possible.\n",
        " - Encapsulation helps in bundling data and methods that operate on that data within a class, providing a controlled interface and preventing unintended modification or access from outside the class. This promotes data integrity and maintainability of the code."
      ],
      "metadata": {
        "id": "rmwIARIv0XxX"
      }
    },
    {
      "cell_type": "markdown",
      "source": [
        "**9**.What is a constructor in Python?\n",
        " - In Python, a constructor is a special method used to initialize objects of a class. It is automatically called when an object is created. The constructor's name is always __init__. Its primary purpose is to set up the initial state of an object by assigning values to its attributes.\n",
        " - Constructors can be of two types : -\n",
        "  - Default Constructor : - It does not accept any arguments and initializes the object with default values. If a class does not have an explicitly defined constructor, Python provides a default constructor.\n",
        "  - Parameterized Constructor : - It accepts arguments and initializes the object with the provided values. This allows for more flexible object creation, where different objects of the same class can have different initial states."
      ],
      "metadata": {
        "id": "OP68ltjk1Tq_"
      }
    },
    {
      "cell_type": "markdown",
      "source": [
        "**10**.What are class and static methods in Python?\n",
        " - In Python, class and static methods are special types of methods defined within a class, but they behave differently from regular instance methods.\n",
        " - Class Methods : -\n",
        "  - They are bound to the class and not the instance of the class.\n",
        "  - They take the class itself as the first argument, conventionally named cls.\n",
        "  - They can access and modify class-level attributes.\n",
        "  - They are defined using the @classmethod decorator.\n",
        " - Static Methods : -\n",
        "  - They are not bound to the class or the instance.\n",
        "  - They do not take any special first argument.\n",
        "  - They cannot access or modify class-level or instance-level attributes directly.\n",
        "  - They are essentially regular functions that are defined within a class for organizational purposes.\n",
        "  - They are defined using the @staticmethod decorator."
      ],
      "metadata": {
        "id": "kOOkLku52AJ_"
      }
    },
    {
      "cell_type": "markdown",
      "source": [
        "**11**.What is method overloading in Python?\n",
        " - Method Overloading is a fundamental concept in OOP that enables a class to define multiple methods with the same name but different parameters. In Python, this powerful feature allows developers to create versatile functions capable of handling various data types."
      ],
      "metadata": {
        "id": "Wd_JPJQl2ynZ"
      }
    },
    {
      "cell_type": "markdown",
      "source": [
        "**12**.What is method overriding in OOP?\n",
        " - Method overriding, in object-oriented programming, is a language feature that allows a subclass or child class to provide a specific implementation of a method that is already provided by one of its superclasses or parent classes."
      ],
      "metadata": {
        "id": "hjqqMR6a3N35"
      }
    },
    {
      "cell_type": "markdown",
      "source": [
        "**13**.What is a property decorator in Python?\n",
        " - In Python, a property decorator is a built-in feature that allows methods to be accessed like attributes, providing a way to implement getters, setters, and deleters for class attributes. It offers a controlled way to manage attribute access, enabling data validation, computation, or other logic execution when getting, setting, or deleting an attribute. The @property decorator is syntactic sugar for creating property objects."
      ],
      "metadata": {
        "id": "hgZw6iQT3doi"
      }
    },
    {
      "cell_type": "markdown",
      "source": [
        "**14**.Why is polymorphism important in OOP?\n",
        " - Polymorphism is crucial in Object-Oriented Programming (OOP) because it enables code reusability, flexibility, and extensibility by allowing different objects to implement the same method in unique ways while sharing a common interface, simplifying complex programs.\n"
      ],
      "metadata": {
        "id": "HBsWtKkA3ymp"
      }
    },
    {
      "cell_type": "markdown",
      "source": [
        "**15**.What is an abstract class in Python?\n",
        " - An abstract class in Python is a class that cannot be instantiated directly and serves as a blueprint for other classes.\n",
        " - It defines methods that subclasses must implement, ensuring a consistent interface across different implementations.\n",
        " - Abstract classes are created using the abc module and the ABCMeta metaclass or by inheriting from ABC.\n",
        " - Abstract methods within an abstract class are declared using the @abstractmethod decorator and lack implementation in the abstract class itself.\n",
        " - Subclasses must provide concrete implementations for these abstract methods; otherwise, they too become abstract classes."
      ],
      "metadata": {
        "id": "4nPpk91l4PUH"
      }
    },
    {
      "cell_type": "markdown",
      "source": [
        "**16**.What are the advantages of OOP?\n",
        " - Object-Oriented Programming (OOP) offers advantages like improved code organization through encapsulation, reusability via inheritance, and simplification of complex systems through abstraction, leading to modular, maintainable, and scalable software.\n",
        " - The advantages of OOP : -\n",
        "  - Encapsulation:\n",
        "    - Bundling data and methods that operate on that data within a class, protecting the data and making the code more secure and easier to maintain.\n",
        "  - Inheritance:\n",
        "    - Allowing classes to inherit properties and methods from parent classes, promoting code reusability and reducing redundancy.\n",
        "  - Modularity:\n",
        "    - Breaking down complex problems into smaller, manageable units (classes and objects), making the code easier to understand, debug, and maintain.\n",
        "  - Code Reusability:\n",
        "    - OOP promotes code reusability by allowing developers to create classes and objects that can be reused in different parts of the code.\n",
        "  - Abstraction:\n",
        "    - Hiding complex implementation details and exposing only the necessary information, simplifying the code and making it easier to understand.\n",
        "  - Flexibility and Extensibility:\n",
        "    - OOP allows for easy modification and extension of the code by adding new classes or modifying existing ones without affecting other parts of the system.\n",
        "  - Improved Code Organization:\n",
        "    - OOP promotes a structured and organized approach to code development, making it easier to manage and understand large projects.\n",
        "  - Easier Troubleshooting:\n",
        "    - OOP simplifies the process of debugging and troubleshooting by isolating functionality into separate classes, making it easier to identify and fix problems.\n",
        "  - Enhanced Productivity:\n",
        "    - OOP allows developers to create reusable components and modules, leading to faster development and reduced development time.\n",
        "  - Improved Code Maintainability:\n",
        "    - OOP promotes code maintainability by providing a clear structure and separation of concerns, making it easier to update and modify the code.\n",
        "  - Better Collaboration:\n",
        "    - OOP's modular structure facilitates collaboration among team members, as different developers can work on different parts of the system independently.\n",
        "  - Security:\n",
        "    - Encapsulation and access control mechanisms in OOP help to protect data and prevent unauthorized access, enhancing the security of the application.      "
      ],
      "metadata": {
        "id": "MXIZnlLK4tCT"
      }
    },
    {
      "cell_type": "markdown",
      "source": [
        "**17**.What is the difference between a class variable and an instance variable?\n",
        " - Class variables are defined within the class but outside of any class methods.\n",
        " - Instance variables are defined within class methods, typically the constructor.\n",
        " - Changes made to the class variable affect all instances. Changes made to the instance variable does not affect all instances."
      ],
      "metadata": {
        "id": "dKXbsJ8D6KI3"
      }
    },
    {
      "cell_type": "markdown",
      "source": [
        "**18**.What is multiple inheritance in Python?\n",
        " - Multiple inheritance in Python is a feature that allows a class to inherit attributes and methods from more than one parent class. It enables the creation of complex class hierarchies where a class can combine functionalities from different sources.\n",
        " - When using multiple inheritance, it's possible to encounter the \"diamond problem,\" where a class inherits from two classes that have a common ancestor. This can lead to ambiguity if the common ancestor defines a method that is also defined in the inheriting classes. Python resolves this using method resolution order (MRO), which defines the order in which base classes are searched for a method."
      ],
      "metadata": {
        "id": "SCQuli626gGD"
      }
    },
    {
      "cell_type": "markdown",
      "source": [
        "**19**.Explain the purpose of ‘’__str__’ and ‘__repr__’ ‘ methods in Python.\n",
        " - In Python, __str__ and __repr__ are special methods used to represent objects as strings. They serve different purposes and are used in different contexts.\n",
        " - __str__: This method returns a user-friendly, informal string representation of an object. It is called by the str() function and implicitly by the print() function. The goal of __str__ is to provide a string that is easily readable for end-users. If __str__ is not defined, Python falls back to using __repr__ if it is defined.\n",
        " - __repr__: This method returns a more detailed, unambiguous string representation of an object, primarily intended for developers and debugging. It is called by the repr() function and is also used in the interactive interpreter. Ideally, the string returned by __repr__ should be a valid Python expression that could be used to recreate the object. If that's not possible, it should at least be informative and unambiguous.\n"
      ],
      "metadata": {
        "id": "AVXYkLwW7DCK"
      }
    },
    {
      "cell_type": "markdown",
      "source": [
        "**20**.What is the significance of the ‘super()’ function in Python?\n",
        " - The super() function in Python is used to call methods from a parent class (superclass) within a child class (subclass). It provides a way to access and utilize inherited functionality, promoting code reuse and maintainability, especially in the context of inheritance.\n",
        " - When a class inherits from another class, it gains access to the parent class's methods and attributes. However, if a method is overridden in the child class, the child class's version is executed instead. super() allows the child class to explicitly call the parent class's version of the method, enabling the extension or modification of inherited behavior."
      ],
      "metadata": {
        "id": "pW5VOXfb7jji"
      }
    },
    {
      "cell_type": "markdown",
      "source": [
        "**21**.What is the significance of the __del__ method in Python?\n",
        " - The __del__ method, also known as a destructor, in Python is called when an object is garbage collected. Its primary purpose is to perform cleanup actions before the object is removed from memory, such as releasing external resources like file descriptors or network connections. However, it's crucial to understand that the __del__ method is not guaranteed to be called at a specific time, or even at all.\n",
        " - Garbage collection in Python is managed automatically, and the timing of object destruction depends on various factors, including memory pressure and the interpreter's internal state. Relying solely on __del__ for resource management can lead to unpredictable behavior and potential resource leaks.\n",
        " - It's generally recommended to use context managers (with statement) or explicit close() methods for resource management instead of __del__. These approaches provide more control and predictability over when resources are released.\n",
        " - While __del__ can be useful in certain situations, such as ensuring cleanup in the event of unexpected program termination, it should be used with caution and not as a primary means of resource management."
      ],
      "metadata": {
        "id": "C9vcn6H273Ey"
      }
    },
    {
      "cell_type": "markdown",
      "source": [
        "**22**.What is the difference between @staticmethod and @classmethod in Python?\n",
        " - The main difference between @staticmethod and @classmethod in Python lies in their relationship with the class and its instances:\n",
        " - @staticmethod:\n",
        "  - This decorator defines a method that doesn't receive any implicit arguments (neither the instance self nor the class cls). It is essentially a regular function that happens to be defined within the class's namespace. It cannot access or modify class state or instance state directly.\n",
        " - @classmethod:\n",
        "  - This decorator defines a method that receives the class itself as the first argument, conventionally named cls. It can access and modify class-level attributes but cannot access instance-specific attributes directly."
      ],
      "metadata": {
        "id": "qguc3Kum8Rsg"
      }
    },
    {
      "cell_type": "markdown",
      "source": [
        "**23**.How does polymorphism work in Python with inheritance?\n",
        " - Polymorphism in Python, in the context of inheritance, enables objects of different classes to respond to the same method call in their own specific ways. This is primarily achieved through method overriding. When a subclass inherits from a parent class, it can redefine a method that already exists in the parent class. This allows the subclass to provide its own implementation of the method, tailored to its specific needs.\n",
        " - When a method is called on an object, Python checks the object's class for a matching method. If it's not found, it looks in the parent class, and so on up the inheritance hierarchy. If a method is overridden in a subclass, Python will execute the overridden version of the method, rather than the one in the parent class.\n"
      ],
      "metadata": {
        "id": "s3E2e8U38qKa"
      }
    },
    {
      "cell_type": "markdown",
      "source": [
        "**24**.What is method chaining in Python OOP?\n",
        " - Method chaining in Python is a programming technique used in object-oriented programming where multiple methods are called sequentially on the same object in a single line of code.\n",
        " - This is achieved by having each method in the chain return the object itself (i.e., self), allowing the next method to be called immediately using dot notation.\n",
        " - Method chaining enhances code readability and conciseness by avoiding the need for intermediate variables."
      ],
      "metadata": {
        "id": "nkmIxqr-89GE"
      }
    },
    {
      "cell_type": "markdown",
      "source": [
        "**25**.What is the purpose of the __call__ method in Python?\n",
        " - The __call__ method in Python enables instances of a class to be called like regular functions.\n",
        " - When a class defines this method, its instances become callable objects. The __call__ method is automatically invoked when the instance is \"called\" using parentheses.\n",
        " - This mechanism provides a way to encapsulate functionality within an object, allowing it to behave like a function while also maintaining state or context through its attributes."
      ],
      "metadata": {
        "id": "uJTwH5sp9Rs-"
      }
    },
    {
      "cell_type": "markdown",
      "source": [
        "#Practical Questions : -"
      ],
      "metadata": {
        "id": "e2-Z_f3V9j2U"
      }
    },
    {
      "cell_type": "markdown",
      "source": [
        "**1**.Create a parent class Animal with a method speak() that prints a generic message. Create a child class Dog that overrides the speak() method to print \"Bark!\"."
      ],
      "metadata": {
        "id": "axtKuLfM9usH"
      }
    },
    {
      "cell_type": "code",
      "source": [
        "class Animal:\n",
        "    def speak(self):\n",
        "        print(\"Generic animal sound\")\n",
        "\n",
        "class Dog(Animal):\n",
        "    def speak(self):\n",
        "        print(\"Bark!\")"
      ],
      "metadata": {
        "id": "iE_YTaYW-tiP"
      },
      "execution_count": null,
      "outputs": []
    },
    {
      "cell_type": "markdown",
      "source": [
        "**2**.Write a program to create an abstract class Shape with a method area(). Derive classes Circle and Rectangle from it and implement the area() method in both.\n",
        "\n",
        "\n"
      ],
      "metadata": {
        "id": "YQPbH9v1_PnQ"
      }
    },
    {
      "cell_type": "code",
      "source": [
        "from abc import ABC, abstractmethod\n",
        "\n",
        "class Shape(ABC):\n",
        "    @abstractmethod\n",
        "    def area(self):\n",
        "        pass\n",
        "\n",
        "class Circle(Shape):\n",
        "    def __init__(self, radius):\n",
        "        self.radius = radius\n",
        "\n",
        "    def area(self):\n",
        "        return 3.14 * self.radius ** 2\n",
        "\n",
        "class Rectangle(Shape):\n",
        "    def __init__(self, length, width):\n",
        "        self.length = length\n",
        "        self.width = width\n",
        "\n",
        "    def area(self):\n",
        "        return self.length * self.width\n",
        "\n",
        "circle = Circle(5)\n",
        "print(f\"Circle area: {circle.area()}\")\n",
        "\n",
        "rectangle = Rectangle(4, 6)\n",
        "print(f\"Rectangle area: {rectangle.area()}\")"
      ],
      "metadata": {
        "colab": {
          "base_uri": "https://localhost:8080/"
        },
        "id": "MCfScybh_8vE",
        "outputId": "821344c0-f09f-4116-f125-ed30fb56f8fe"
      },
      "execution_count": null,
      "outputs": [
        {
          "output_type": "stream",
          "name": "stdout",
          "text": [
            "Circle area: 78.5\n",
            "Rectangle area: 24\n"
          ]
        }
      ]
    },
    {
      "cell_type": "markdown",
      "source": [
        "**3**.Implement a multi-level inheritance scenario where a class Vehicle has an attribute type. Derive a class Car and further derive a class ElectricCar that adds a battery attribute."
      ],
      "metadata": {
        "id": "xMBOC4-aAQNW"
      }
    },
    {
      "cell_type": "code",
      "source": [
        "class Vehicle:\n",
        "    def __init__(self, vehicle_type):\n",
        "        self.type = vehicle_type\n",
        "\n",
        "class Car(Vehicle):\n",
        "    def __init__(self, car_type):\n",
        "        super().__init__(\"Car\")\n",
        "        self.car_type = car_type\n",
        "class ElectricCar(Car):\n",
        "    def __init__(self, car_type, battery_capacity):\n",
        "        super().__init__(car_type)\n",
        "        self.battery_capacity = battery_capacity\n",
        "\n",
        "electric_car = ElectricCar(\"Sedan\", 75)\n",
        "print(f\"Type: {electric_car.type}, Car Type: {electric_car.car_type}, Battery Capacity: {electric_car.battery_capacity} kWh\")\n"
      ],
      "metadata": {
        "colab": {
          "base_uri": "https://localhost:8080/"
        },
        "id": "eBrFQvK4AZ9Y",
        "outputId": "ec07a674-9604-4dab-da4b-c0ceda33a87f"
      },
      "execution_count": null,
      "outputs": [
        {
          "output_type": "stream",
          "name": "stdout",
          "text": [
            "Type: Car, Car Type: Sedan, Battery Capacity: 75 kWh\n"
          ]
        }
      ]
    },
    {
      "cell_type": "markdown",
      "source": [
        "**4**.Demonstrate polymorphism by creating a base class Bird with a method fly().Create two derived classes Sparrow and Penguin that override the fly() method.\n"
      ],
      "metadata": {
        "id": "CTOpalLJBBup"
      }
    },
    {
      "cell_type": "code",
      "source": [
        "class Bird:\n",
        "    def fly(self):\n",
        "        print(\"Birds can fly\")\n",
        "\n",
        "class Sparrow(Bird):\n",
        "    def fly(self):\n",
        "        print(\"Sparrows can fly at high speeds\")\n",
        "class Penguin(Bird):\n",
        "    def fly(self):\n",
        "        print(\"Penguin can not fly,it swims instead\")\n",
        "\n",
        "sparrow = Sparrow()\n",
        "penguin = Penguin()\n",
        "\n",
        "bird_list = [sparrow, penguin]\n",
        "\n",
        "for bird in bird_list:\n",
        "    bird.fly()"
      ],
      "metadata": {
        "colab": {
          "base_uri": "https://localhost:8080/"
        },
        "id": "TI4yChr0BN9-",
        "outputId": "bc4d8286-aaa1-4d86-a029-293afdd709a2"
      },
      "execution_count": null,
      "outputs": [
        {
          "output_type": "stream",
          "name": "stdout",
          "text": [
            "Sparrows can fly at high speeds\n",
            "Penguin can not fly,it swims instead\n"
          ]
        }
      ]
    },
    {
      "cell_type": "markdown",
      "source": [
        "**5**.Write a program to demonstrate encapsulation by creating a class\n",
        "BankAccount with private attributes balance and methods to deposit, withdraw, and check balance."
      ],
      "metadata": {
        "id": "4yU3HULgDDFu"
      }
    },
    {
      "cell_type": "code",
      "source": [
        "class BankAccount:\n",
        "    def __init__(self, balance=0):\n",
        "        self._balance = balance\n",
        "\n",
        "    def deposit(self, amount):\n",
        "        if amount > 0:\n",
        "            self._balance += amount\n",
        "    def withdraw(self, amount):\n",
        "        if 0 < amount <= self._balance:\n",
        "            self._balance -= amount\n",
        "        else:\n",
        "            print(\"Insufficient funds or invalid withdrawal amount.\")\n",
        "\n",
        "    def get_balance(self):\n",
        "        return self._balance\n",
        "\n",
        "account = BankAccount(1000)\n",
        "account.deposit(500)\n",
        "account.withdraw(200)\n",
        "print(f\"Current balance: ${account.get_balance()}\")"
      ],
      "metadata": {
        "colab": {
          "base_uri": "https://localhost:8080/"
        },
        "id": "k-anLFMSDM2G",
        "outputId": "1ad53422-b0b7-4ffd-c27d-36ade6f334fa"
      },
      "execution_count": null,
      "outputs": [
        {
          "output_type": "stream",
          "name": "stdout",
          "text": [
            "Current balance: $1300\n"
          ]
        }
      ]
    },
    {
      "cell_type": "markdown",
      "source": [
        "**6**.Demonstrate runtime polymorphism using a method play() in a base class Instrument.Derive classes Guitar and Piano that implement their own version of play()."
      ],
      "metadata": {
        "id": "GjvcSJp6EEzY"
      }
    },
    {
      "cell_type": "code",
      "source": [
        "class Instrument:\n",
        "    def play(self):\n",
        "        print(\"Generic instrument sound\")\n",
        "\n",
        "class Guitar(Instrument):\n",
        "    def play(self):\n",
        "        print(\"Playing a guitar sound\")\n",
        "\n",
        "class Piano(Instrument):\n",
        "    def play(self):\n",
        "        print(\"Playing a piano sound\")\n",
        "guitar = Guitar()\n",
        "piano = Piano()\n",
        "\n",
        "instruments = [guitar, piano]\n",
        "for instrument in instruments:\n",
        "    instrument.play()"
      ],
      "metadata": {
        "colab": {
          "base_uri": "https://localhost:8080/"
        },
        "id": "bVmOsDEuEQuf",
        "outputId": "7d6141b0-552e-4c48-85e8-453085511c7e"
      },
      "execution_count": null,
      "outputs": [
        {
          "output_type": "stream",
          "name": "stdout",
          "text": [
            "Playing a guitar sound\n",
            "Playing a piano sound\n"
          ]
        }
      ]
    },
    {
      "cell_type": "markdown",
      "source": [
        "**7**.Create a class MathOperations with a class method add_numbers() to add two numbers and a static method subtract_numbers() to subtract two numbers."
      ],
      "metadata": {
        "id": "gCLm7O11FTGo"
      }
    },
    {
      "cell_type": "code",
      "source": [
        "class MathOperations:\n",
        "    @classmethod\n",
        "    def add_numbers(cls, num1, num2):\n",
        "        return num1 + num2\n",
        "\n",
        "    @staticmethod\n",
        "    def subtract_numbers(num1, num2):\n",
        "        return num1 - num2\n"
      ],
      "metadata": {
        "id": "CdpnD_HzFcOy"
      },
      "execution_count": null,
      "outputs": []
    },
    {
      "cell_type": "markdown",
      "source": [
        "**8**.Implement a class Person with a class method to count the total number of persons created."
      ],
      "metadata": {
        "id": "aIQgq9n6F0uF"
      }
    },
    {
      "cell_type": "code",
      "source": [
        "class Person:\n",
        "    count = 0\n",
        "\n",
        "    def __init__(self):\n",
        "        Person.count += 1\n",
        "\n",
        "    @classmethod\n",
        "    def get_total_persons(cls):\n",
        "        return cls.count"
      ],
      "metadata": {
        "id": "idArDSfMF9b1"
      },
      "execution_count": null,
      "outputs": []
    },
    {
      "cell_type": "markdown",
      "source": [
        "**9**.Write a class Fraction with attributes numerator and denominator. Override the str method to display the fraction as \"numerator/denominator\"."
      ],
      "metadata": {
        "id": "J9Lql8LBGN9t"
      }
    },
    {
      "cell_type": "code",
      "source": [
        "class Fraction:\n",
        "    def __init__(self, numerator, denominator):\n",
        "        self.numerator = numerator\n",
        "        self.denominator = denominator\n",
        "\n",
        "    def __str__(self):\n",
        "        return f\"{self.numerator}/{self.denominator}\""
      ],
      "metadata": {
        "id": "9iMda2UQGrMO"
      },
      "execution_count": null,
      "outputs": []
    },
    {
      "cell_type": "markdown",
      "source": [
        "**10**.Demonstrate operator overloading by creating a class Vector and overriding the add method to add two vectors."
      ],
      "metadata": {
        "id": "2V9PG2J8G2uS"
      }
    },
    {
      "cell_type": "code",
      "source": [
        "class Vector:\n",
        "    def __init__(self, x, y):\n",
        "        self.x = x\n",
        "        self.y = y\n",
        "\n",
        "    def __add__(self, other):\n",
        "        return Vector(self.x + other.x, self.y + other.y)"
      ],
      "metadata": {
        "id": "1SmhwW1TG_a0"
      },
      "execution_count": null,
      "outputs": []
    },
    {
      "cell_type": "markdown",
      "source": [
        "**11**.Create a class Person with attributes name and age. Add a method greet() that prints \"Hello, my name is {name} and I am {age} years old.\""
      ],
      "metadata": {
        "id": "cF-70daCHUhd"
      }
    },
    {
      "cell_type": "code",
      "source": [
        "class Person:\n",
        "    def __init__(self, name, age):\n",
        "        self.name = name\n",
        "        self.age = age\n",
        "    def greet(self):\n",
        "        print(f\"Hello, my name is {self.name} and I am {self.age} years old.\")\n",
        "\n",
        "person1 = Person(\"Barsa\", 24)\n",
        "person1.greet()\n",
        "\n",
        "person2 = Person(\"Bitu\", 25)\n",
        "person2.greet()"
      ],
      "metadata": {
        "colab": {
          "base_uri": "https://localhost:8080/"
        },
        "id": "OCz7vMeKhiVm",
        "outputId": "4764c012-a4c0-4051-9dc3-f33970d19f26"
      },
      "execution_count": null,
      "outputs": [
        {
          "output_type": "stream",
          "name": "stdout",
          "text": [
            "Hello, my name is Barsa and I am 24 years old.\n",
            "Hello, my name is Bitu and I am 25 years old.\n"
          ]
        }
      ]
    },
    {
      "cell_type": "markdown",
      "source": [
        "**12**.Implement a class Student with attributes name and grades. Create a method average_grade() to compute the average of the grades."
      ],
      "metadata": {
        "id": "gOl5ldv4jHTf"
      }
    },
    {
      "cell_type": "code",
      "source": [
        "class Student:\n",
        "    def __init__(self, name, grades):\n",
        "        self.name = name\n",
        "        self.grades = grades\n",
        "\n",
        "    def average_grade(self):\n",
        "        if len(self.grades) == 0:\n",
        "            return 0\n",
        "        return sum(self.grades) / len(self.grades)\n",
        "\n",
        "student1 = Student(\"Barsa\", [85, 90, 75])\n",
        "print(student1.average_grade())"
      ],
      "metadata": {
        "colab": {
          "base_uri": "https://localhost:8080/"
        },
        "id": "s1JLz8MRjTQr",
        "outputId": "51697e8c-4077-41c3-aebd-008e01cf9082"
      },
      "execution_count": null,
      "outputs": [
        {
          "output_type": "stream",
          "name": "stdout",
          "text": [
            "83.33333333333333\n"
          ]
        }
      ]
    },
    {
      "cell_type": "markdown",
      "source": [
        "**13**.Create a class Rectangle with methods set_dimensions() to set the dimensions and area() to calculate the area."
      ],
      "metadata": {
        "id": "vE4JRXt7lEX5"
      }
    },
    {
      "cell_type": "code",
      "source": [
        "class Rectangle:\n",
        "    def __init__(self, length=0, width=0):\n",
        "        self.length = length\n",
        "        self.width = width\n",
        "\n",
        "    def set_dimensions(self, new_length, new_width):\n",
        "        self.length = new_length\n",
        "        self.width = new_width\n",
        "\n",
        "    def area(self):\n",
        "      return self.length * self.width\n",
        "\n",
        "rect1 = Rectangle(5, 3)\n",
        "print(rect1.area())\n",
        "\n",
        "rect1.set_dimensions(10, 2)\n",
        "print(rect1.area())"
      ],
      "metadata": {
        "colab": {
          "base_uri": "https://localhost:8080/"
        },
        "id": "f4St-4CQlMSU",
        "outputId": "6da9b08e-7e8b-4d5d-e5c5-aa8df09cc5c2"
      },
      "execution_count": null,
      "outputs": [
        {
          "output_type": "stream",
          "name": "stdout",
          "text": [
            "15\n",
            "20\n"
          ]
        }
      ]
    },
    {
      "cell_type": "markdown",
      "source": [
        "**14**.Create a class Employee with a method calculate_salary() that computes the salary based on hours worked and hourly rate. Create a derived class Manager that adds a bonus to the salary."
      ],
      "metadata": {
        "id": "N6TGdCsSnS-3"
      }
    },
    {
      "cell_type": "code",
      "source": [
        "class Employee:\n",
        "    def __init__(self, name, hourly_rate):\n",
        "        self.name = name\n",
        "        self.hourly_rate = hourly_rate\n",
        "\n",
        "    def calculate_salary(self, hours_worked):\n",
        "        return hours_worked * self.hourly_rate\n",
        "\n",
        "class Manager(Employee):\n",
        "    def __init__(self, name, hourly_rate, bonus):\n",
        "        super().__init__(name, hourly_rate)\n",
        "        self.bonus = bonus\n",
        "\n",
        "    def calculate_salary(self, hours_worked):\n",
        "        base_salary = super().calculate_salary(hours_worked)\n",
        "        return base_salary + self.bonus\n",
        "\n",
        "employee1 = Employee(\"Barsa\",24)\n",
        "print(employee1.calculate_salary(40))\n",
        "\n",
        "manager1 = Manager(\"Bitu\", 30, 500)\n",
        "print(manager1.calculate_salary(35))"
      ],
      "metadata": {
        "colab": {
          "base_uri": "https://localhost:8080/"
        },
        "id": "vR8MBkICn1oY",
        "outputId": "b8e20f3d-da16-45cd-ab8a-6480da3d0174"
      },
      "execution_count": null,
      "outputs": [
        {
          "output_type": "stream",
          "name": "stdout",
          "text": [
            "960\n",
            "1550\n"
          ]
        }
      ]
    },
    {
      "cell_type": "markdown",
      "source": [
        "**15**.Create a class Product with attributes name, price, and quantity Implement a method total_price() that calculates the total price of the product."
      ],
      "metadata": {
        "id": "WHSHwnjZqKCl"
      }
    },
    {
      "cell_type": "code",
      "source": [
        "class Product:\n",
        "    def __init__(self, name, price, quantity):\n",
        "        self.name = name\n",
        "        self.price = price\n",
        "        self.quantity = quantity\n",
        "\n",
        "    def total_price(self):\n",
        "        return self.price * self.quantity\n",
        "\n",
        "product1 = Product(\"T-Shirt\", 15, 2)\n",
        "print(product1.name)\n",
        "print(product1.price)\n",
        "print(product1.quantity)\n",
        "print(product1.total_price())"
      ],
      "metadata": {
        "colab": {
          "base_uri": "https://localhost:8080/"
        },
        "id": "ZdDgLfMCqV2S",
        "outputId": "92cd1119-a0ee-4030-a15f-0eadc56c41ec"
      },
      "execution_count": null,
      "outputs": [
        {
          "output_type": "stream",
          "name": "stdout",
          "text": [
            "T-Shirt\n",
            "15\n",
            "2\n",
            "30\n"
          ]
        }
      ]
    },
    {
      "cell_type": "markdown",
      "source": [
        "**16**. Create a class Animal with an abstract method sound().Create two derived classes Cow and Sheep that implement the sound() method."
      ],
      "metadata": {
        "id": "wrqxGV5NrIcy"
      }
    },
    {
      "cell_type": "code",
      "source": [
        "from abc import ABC, abstractmethod\n",
        "\n",
        "class Animal(ABC):\n",
        "    @abstractmethod\n",
        "    def sound(self):\n",
        "        pass\n",
        "\n",
        "class Cow(Animal):\n",
        "    def sound(self):\n",
        "        print(\"Mow!\")\n",
        "\n",
        "class Sheep(Animal):\n",
        "    def sound(self):\n",
        "        print(\"Baa!\")\n",
        "\n",
        "cow = Cow()\n",
        "cow.sound()\n",
        "\n",
        "sheep = Sheep()\n",
        "sheep.sound()"
      ],
      "metadata": {
        "colab": {
          "base_uri": "https://localhost:8080/"
        },
        "id": "EI7dp6rNrTMU",
        "outputId": "3200de82-4d9b-4de0-983d-b56f13c605eb"
      },
      "execution_count": null,
      "outputs": [
        {
          "output_type": "stream",
          "name": "stdout",
          "text": [
            "Mow!\n",
            "Baa!\n"
          ]
        }
      ]
    },
    {
      "cell_type": "markdown",
      "source": [
        "**17**.Create a class Book with attributes title, author, and year_published. Add a method get_book_info() that returns a formatted string with the book's details."
      ],
      "metadata": {
        "id": "u01AiD2esrVt"
      }
    },
    {
      "cell_type": "code",
      "source": [
        "class Book:\n",
        "    def __init__(self, title, author, year_firstpublished):\n",
        "        self.title = title\n",
        "        self.author = author\n",
        "        self.year_firstpublished = year_firstpublished\n",
        "\n",
        "    def get_book_info(self):\n",
        "        return f\"Title: {self.title}\\nAuthor: {self.author}\\nYear first Published: {self.year_firstpublished}\"\n",
        "\n",
        "book1 = Book(\"The Bhagwat Geeta\", \"Veda-Vyasa\", 1968)\n",
        "print(book1.get_book_info())"
      ],
      "metadata": {
        "colab": {
          "base_uri": "https://localhost:8080/"
        },
        "id": "FtoYlnS5s9Ti",
        "outputId": "21dedbb1-9b0e-4385-daa7-b3bb54ba9a1d"
      },
      "execution_count": null,
      "outputs": [
        {
          "output_type": "stream",
          "name": "stdout",
          "text": [
            "Title: The Bhagwat Geeta\n",
            "Author: Veda-Vyasa\n",
            "Year first Published: 1968\n"
          ]
        }
      ]
    },
    {
      "cell_type": "markdown",
      "source": [
        "**18**.Create a class House with attributes address and price. Create a derived class Mansion that adds an attribute number_of_rooms."
      ],
      "metadata": {
        "id": "g19Pq1pwu8L_"
      }
    },
    {
      "cell_type": "code",
      "source": [
        "class House:\n",
        "    def __init__(self, address, price):\n",
        "        self.address = address\n",
        "        self.price = price\n",
        "\n",
        "class Mansion(House):\n",
        "    def __init__(self, address, price, number_of_rooms):\n",
        "        super().__init__(address, price)\n",
        "        self.number_of_rooms = number_of_rooms\n",
        "\n",
        "my_house = House(\"Sukinda , Odisha\" , 250000)\n",
        "priya_mansion = Mansion(\"Jajpur , Odisha\" , 1000000 , 8)\n",
        "\n",
        "print(my_house.address , my_house.price)\n",
        "print(priya_mansion.address , priya_mansion.price , priya_mansion.number_of_rooms)"
      ],
      "metadata": {
        "colab": {
          "base_uri": "https://localhost:8080/"
        },
        "id": "5Wp-IEeOvFOh",
        "outputId": "b5215c6f-fd1f-4ead-97b6-d334bc6fd3fe"
      },
      "execution_count": null,
      "outputs": [
        {
          "output_type": "stream",
          "name": "stdout",
          "text": [
            "Sukinda , Odisha 250000\n",
            "Jajpur , Odisha 1000000 8\n"
          ]
        }
      ]
    }
  ]
}